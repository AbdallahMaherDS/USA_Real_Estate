{
 "cells": [
  {
   "cell_type": "code",
   "execution_count": 1,
   "id": "bc8b9866-f161-4f88-a388-90854d4e44db",
   "metadata": {},
   "outputs": [
    {
     "name": "stdout",
     "output_type": "stream",
     "text": [
      "Writing estate_app.py\n"
     ]
    }
   ],
   "source": [
    "%%writefile estate_app.py\n",
    "import pandas as pd \n",
    "import numpy as np \n",
    "import streamlit as st \n",
    "import joblib\n",
    "import category_encoders\n",
    "import imblearn\n",
    "\n",
    "st.set_page_config(page_title=\"USA Real Estate\", page_icon=\":cityscape:\")\n",
    "st.title(\"Real Estate Price Prediction 🏙️\")\n",
    "# Function to get user input\n",
    "def getInput():\n",
    "    \n",
    "    Bed = st.slider('Select beds number'.title() , min_value=1 , max_value=10 , step=1)\n",
    "    \n",
    "    Bath = st.slider('Select baths number'.title() , min_value=1 , max_value=5 , step=1)\n",
    "    \n",
    "    House_size_SqFt = st.slider('Select house size(SqFt)'.title() , min_value=100 , max_value=10000 , step=1)\n",
    "    \n",
    "    Year = st.slider('Select year'.title() , min_value=2000 , max_value=2020 , step=1)\n",
    "\n",
    "    State = st.selectbox('select state'.title() , ['Alabama', 'Alaska', 'Arizona', 'Arkansas', 'California',\n",
    "       'Colorado', 'Connecticut', 'Delaware', 'District of Columbia',\n",
    "       'Florida', 'Georgia', 'Hawaii', 'Idaho', 'Illinois', 'Indiana',\n",
    "       'Iowa', 'Kansas', 'Kentucky', 'Louisiana', 'Maine', 'Maryland',\n",
    "       'Massachusetts', 'Michigan', 'Minnesota', 'Mississippi',\n",
    "       'Missouri', 'Montana', 'Nebraska', 'Nevada', 'New Hampshire',\n",
    "       'New Jersey', 'New Mexico', 'New York', 'North Carolina',\n",
    "       'North Dakota', 'Ohio', 'Oklahoma', 'Oregon', 'Pennsylvania',\n",
    "       'Rhode Island', 'South Carolina', 'South Dakota', 'Tennessee',\n",
    "       'Texas', 'Utah', 'Vermont', 'Virgin Islands', 'Virginia',\n",
    "       'Washington', 'West Virginia', 'Wisconsin', 'Wyoming'])\n",
    "\n",
    "    return pd.DataFrame(\n",
    "        data=\n",
    "            [[Bed, Bath, State, House_size_SqFt, Year]] , columns=['Bed', 'Bath', 'State', 'House_size(SqFt)', 'Year'])\n",
    "\n",
    "# Get user input    \n",
    "test = getInput()\n",
    "st.dataframe(test)\n",
    "\n",
    "# Load the model\n",
    "model = joblib.load('dt.joblib')\n",
    "\n",
    "# Predict price button\n",
    "if st.button('Predict Price'):\n",
    "    prediction = model.predict(test)\n",
    "    st.write(f\"### Predicted Price: ${prediction[0]}\")"
   ]
  },
  {
   "cell_type": "code",
   "execution_count": 2,
   "id": "3b429f77-538d-4d6f-a279-499afdf0460a",
   "metadata": {},
   "outputs": [
    {
     "name": "stdout",
     "output_type": "stream",
     "text": [
      "^C\n"
     ]
    }
   ],
   "source": [
    "#Run App\n",
    "! streamlit run estate_app.py"
   ]
  }
 ],
 "metadata": {
  "kernelspec": {
   "display_name": "Python 3 (ipykernel)",
   "language": "python",
   "name": "python3"
  },
  "language_info": {
   "codemirror_mode": {
    "name": "ipython",
    "version": 3
   },
   "file_extension": ".py",
   "mimetype": "text/x-python",
   "name": "python",
   "nbconvert_exporter": "python",
   "pygments_lexer": "ipython3",
   "version": "3.13.0"
  }
 },
 "nbformat": 4,
 "nbformat_minor": 5
}
