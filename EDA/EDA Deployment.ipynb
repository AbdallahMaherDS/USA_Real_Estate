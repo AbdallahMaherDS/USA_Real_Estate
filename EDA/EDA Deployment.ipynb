{
 "cells": [
  {
   "cell_type": "code",
   "execution_count": 1,
   "id": "e21584fa-067f-4aed-9f0b-973840469c9c",
   "metadata": {},
   "outputs": [
    {
     "name": "stdout",
     "output_type": "stream",
     "text": [
      "Writing USA_Real_Estate_Dashboard.py\n"
     ]
    }
   ],
   "source": [
    "%%writefile USA_Real_Estate_Dashboard.py\n",
    "# Importing Libraries \n",
    "import pandas as pd\n",
    "import plotly.express as px\n",
    "import streamlit as st\n",
    "# Reading CSVs\n",
    "df1=pd.read_csv('DataFrames/df1.csv')\n",
    "df2=pd.read_csv('DataFrames/df2.csv')\n",
    "df3=pd.read_csv('DataFrames/df3.csv')\n",
    "df4=pd.read_csv('DataFrames/df4.csv')\n",
    "df5=pd.read_csv('DataFrames/df5.csv')\n",
    "# Data Visualization\n",
    "# DF1 Visualization\n",
    "fig1=px.histogram(data_frame=df1.sort_values('Price(USD)',ascending=True),x=df1['State'],y=df1['Price(USD)'],color='State',text_auto=True)\n",
    "fig1.update_layout(\n",
    "    title=\"The most expensive 10 units in USA\",\n",
    "    xaxis_title=\"State\",\n",
    "    yaxis_title=\"Price(USD)\",\n",
    ")\n",
    "# DF2 Visualization\n",
    "fig2=px.histogram(data_frame=df2.sort_values('Price(USD)',ascending=True),x=df2['State'],y=df1['Price(USD)'],color='State',text_auto=True)\n",
    "fig2.update_layout(\n",
    "    title=\"The cheapest 10 units in USA\",\n",
    "    xaxis_title=\"State\",\n",
    "    yaxis_title=\"Price(USD)\",\n",
    ")\n",
    "# DF3 Visualization\n",
    "fig3=px.line(data_frame=df3,x=df3['Year'],y=df3['Price(USD)'],color_discrete_sequence=['burlywood'])\n",
    "fig3.update_layout(\n",
    "    title=\"The average rate of change in unit prices\",\n",
    "    xaxis_title=\"Year\",\n",
    "    yaxis_title=\"Price(USD)\",\n",
    ")\n",
    "# DF4 Visualization\n",
    "fig4=px.funnel(data_frame=df4.sort_values('House_size(SqFt)',ascending=False),x=df4['House_size(SqFt)'],y=df4['State'],color='House_size(SqFt)')\n",
    "fig4.update_layout(\n",
    "    title=\"The widest 10 units in USA\",\n",
    "    xaxis_title=\"House size (SqFt)\",\n",
    "    yaxis_title=\"State\",\n",
    ")\n",
    "# DF5 Visualization\n",
    "fig5=px.funnel(data_frame=df5.sort_values('House_size(SqFt)',ascending=False),x=df5['House_size(SqFt)'],y=df5['State'],color='House_size(SqFt)')\n",
    "fig5.update_layout(\n",
    "    title=\"The narrowest 10 units in USA\",\n",
    "    xaxis_title=\"House size (SqFt)\",\n",
    "    yaxis_title=\"State\",\n",
    ")\n",
    "st.set_page_config(layout='wide',page_title=\"USA Real Estate statistics\", page_icon=\":📊:\")\n",
    "# sidebar title\n",
    "title = st.title('USA Real Estate 🏙️')\n",
    "\n",
    "st.markdown('This report provides an in-depth examination of key trends and characteristics within the residential real estate market of the United States. It presents a detailed analysis of the ten highest-priced and ten lowest-priced housing units, thereby illustrating the wide spectrum of property values across the country. The report also explores the largest and smallest residential units in terms of physical dimensions, offering a perspective on spatial disparities in housing. Furthermore, it includes a longitudinal review of housing price fluctuations spanning the period from 1990 to 2020, capturing significant shifts and developments over three decades. Collectively, these insights contribute to a comprehensive understanding of pricing dynamics, housing availability, and market evolution in the U.S. residential sector.')\n",
    "# if radio == 'USA Real Estate statistics'\n",
    "st.subheader('USA Real Estate statistics 📊')\n",
    "tab1 , tab2 , tab3= st.tabs(['Top 10 Most expensive & cheapest in USA','Top 10 widest & narrowest in USA','The avegrage rate of change in units price'])\n",
    "with tab1:\n",
    "        st.plotly_chart(fig1)\n",
    "        st.plotly_chart(fig2)\n",
    "with tab2:\n",
    "        st.plotly_chart(fig4)\n",
    "        st.plotly_chart(fig5)\n",
    "with tab3:\n",
    "        st.plotly_chart(fig3)"
   ]
  },
  {
   "cell_type": "code",
   "execution_count": null,
   "id": "92fa0410-3c21-4af2-87ee-9a566bdc91fb",
   "metadata": {},
   "outputs": [],
   "source": [
    "#Run App\n",
    "! streamlit run USA_Real_Estate_Dashboard.py"
   ]
  }
 ],
 "metadata": {
  "kernelspec": {
   "display_name": "Python 3 (ipykernel)",
   "language": "python",
   "name": "python3"
  },
  "language_info": {
   "codemirror_mode": {
    "name": "ipython",
    "version": 3
   },
   "file_extension": ".py",
   "mimetype": "text/x-python",
   "name": "python",
   "nbconvert_exporter": "python",
   "pygments_lexer": "ipython3",
   "version": "3.13.0"
  }
 },
 "nbformat": 4,
 "nbformat_minor": 5
}
